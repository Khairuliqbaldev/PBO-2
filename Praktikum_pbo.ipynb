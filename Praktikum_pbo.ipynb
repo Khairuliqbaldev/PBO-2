{
  "nbformat": 4,
  "nbformat_minor": 0,
  "metadata": {
    "colab": {
      "provenance": [],
      "authorship_tag": "ABX9TyMR94yype0zZ2/MuJvPW5nb",
      "include_colab_link": true
    },
    "kernelspec": {
      "name": "python3",
      "display_name": "Python 3"
    },
    "language_info": {
      "name": "python"
    }
  },
  "cells": [
    {
      "cell_type": "markdown",
      "metadata": {
        "id": "view-in-github",
        "colab_type": "text"
      },
      "source": [
        "<a href=\"https://colab.research.google.com/github/Khairuliqbaldev/praktikum_pbo/blob/main/Praktikum_pbo.ipynb\" target=\"_parent\"><img src=\"https://colab.research.google.com/assets/colab-badge.svg\" alt=\"Open In Colab\"/></a>"
      ]
    },
    {
      "cell_type": "code",
      "execution_count": 1,
      "metadata": {
        "colab": {
          "base_uri": "https://localhost:8080/"
        },
        "id": "W3gj-OzFoHSs",
        "outputId": "18799fc3-b0e7-4f18-9010-5a166dfedada"
      },
      "outputs": [
        {
          "output_type": "stream",
          "name": "stdout",
          "text": [
            "Budi details:\n",
            "Rambut:  Ikal\n",
            "Warna Rambut:  Hitam\n",
            "\n",
            "Michael details:\n",
            "Rambut:  Lurus\n",
            "Warna Rambut:  Pirang\n"
          ]
        }
      ],
      "source": [
        "class Person:\n",
        "    person = 'Person' # Class Variable\n",
        "\n",
        "    def __init__(self, rambut, warna): # The init method or constructor\n",
        "        self.rambut = rambut # Instance Variable\n",
        "        self.warna = warna # Instance Variable\n",
        "\n",
        "# Objects\n",
        "Budi = Person(\"Ikal\", \"Hitam\") # Objek pertama, sesuai contoh di soal [cite: 2]\n",
        "Michael = Person(\"Lurus\", \"Pirang\") # Objek kedua, dilengkapi agar sesuai output yang diharapkan [cite: 3]\n",
        "\n",
        "print('Budi details:')\n",
        "print('Rambut: ', Budi.rambut)\n",
        "print('Warna Rambut: ', Budi.warna)\n",
        "\n",
        "print('\\nMichael details:')\n",
        "print('Rambut: ', Michael.rambut) # Mengakses atribut 'rambut' dari objek Michael [cite: 3]\n",
        "print('Warna Rambut: ', Michael.warna) # Mengakses atribut 'warna' dari objek Michael [cite: 3]"
      ]
    }
  ]
}